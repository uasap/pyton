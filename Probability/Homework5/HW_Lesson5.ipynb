{
 "cells": [
  {
   "attachments": {},
   "cell_type": "markdown",
   "id": "approximate-essence",
   "metadata": {},
   "source": [
    "**1. Утверждается, что шарики для подшипников, изготовленные автоматическим станком, имеют средний диаметр 17 мм. Используя односторонний критерий с $\\alpha=0.05$ проверить эту гипотезу, если в выборке из $n=100$ шариков средний диаметр оказался равным 17.5 мм, а дисперсия известна и равна 4 кв.мм.**  "
   ]
  },
  {
   "cell_type": "markdown",
   "id": "structural-knight",
   "metadata": {},
   "source": [
    "Сформулируем нулевую гипотезу:  \n",
    "$H0: \\mu=\\mu_0=17$, где $\\mu$ и $\\mu_0$ средние выборки и генеральной совокупности и выборки, соответственно.  \n",
    "Альтернативная гипотеза:  \n",
    "$H1: \\mu>\\mu_0$  \n",
    "Поскольку нам известны и среднее и дисперсия генеральной совокупности, то для проверки гипотезы будем использовать $z$-критерий.  \n",
    "$z_н=\\frac{\\bar X-\\mu_0}{\\sigma/\\sqrt n}$, где  \n",
    "$\\bar X=\\mu=17.5$ среднее по выборке,  \n",
    "$\\sigma=\\sqrt 4=2$ среднее квадратическое отклонение генеральной совокупности,  \n",
    "$n=100$ размер выборки.  "
   ]
  },
  {
   "cell_type": "code",
   "execution_count": 2,
   "id": "opposite-biology",
   "metadata": {},
   "outputs": [
    {
     "name": "stdout",
     "output_type": "stream",
     "text": [
      "Наблюдаемое значение z-критерия:  2.5000\n"
     ]
    }
   ],
   "source": [
    "z=(17.5-17)/0.2\n",
    "print(f'Наблюдаемое значение z-критерия: {z: .4f}')"
   ]
  },
  {
   "cell_type": "markdown",
   "id": "celtic-defensive",
   "metadata": {},
   "source": [
    "Найдем табличное значение $z$-критерия, для $\\alpha=0.05$"
   ]
  },
  {
   "cell_type": "code",
   "execution_count": 4,
   "id": "distinguished-condition",
   "metadata": {},
   "outputs": [
    {
     "name": "stdout",
     "output_type": "stream",
     "text": [
      "Табличное значение z-критерия:  1.6449\n"
     ]
    }
   ],
   "source": [
    "import scipy.stats as stats\n",
    "\n",
    "zt=stats.norm.ppf(0.95)\n",
    "print(f'Табличное значение z-критерия: {zt: .4f}')"
   ]
  },
  {
   "cell_type": "markdown",
   "id": "relative-advantage",
   "metadata": {},
   "source": [
    "Сравним полученные значения: "
   ]
  },
  {
   "cell_type": "code",
   "execution_count": 5,
   "id": "thrown-warehouse",
   "metadata": {
    "scrolled": true
   },
   "outputs": [
    {
     "data": {
      "text/plain": [
       "False"
      ]
     },
     "execution_count": 5,
     "metadata": {},
     "output_type": "execute_result"
    }
   ],
   "source": [
    "z<zt"
   ]
  },
  {
   "cell_type": "markdown",
   "id": "quality-transaction",
   "metadata": {},
   "source": [
    "Поскольку $z_н>z_t$, **отвергаем** нулевую гипотезу на уровне значимости $\\alpha=0.05$"
   ]
  },
  {
   "cell_type": "markdown",
   "id": "hawaiian-prior",
   "metadata": {},
   "source": [
    "---  \n",
    "#### Ответ:  \n",
    "**Отвергаем** нулевую гипотезу $H0: \\mu_0=17$ на уровне значимости $\\alpha=0.05$  \n",
    "\n",
    "---"
   ]
  },
  {
   "attachments": {},
   "cell_type": "markdown",
   "id": "proud-millennium",
   "metadata": {},
   "source": [
    "**2. Продавец утверждает, что средний вес пачки печенья составляет 200 г. Из партии извлечена выборка из 10 пачек. Вес каждой пачки составляет: 202, 203, 199, 197, 195, 201, 200, 204, 194, 190. Известно, что их веса распределены нормально. Верно ли утверждение продавца, если учитывать, что доверительная вероятность равна 99%?**  "
   ]
  },
  {
   "cell_type": "markdown",
   "id": "computational-greensboro",
   "metadata": {},
   "source": [
    "Из условия задачи следует что нужно проводить проверку следующих гипотез:  \n",
    "$H0: \\mu=\\mu_0=200$, где $\\mu$ и $\\mu_0$ средние выборки и генеральной совокупности и выборки, соответственно.  \n",
    "Альтернативная гипотеза:  \n",
    "$H1: \\mu\\neq\\mu_0$  \n",
    "при этом будем использовать **двусторонний** критерий c уровнем значимости $\\alpha=1-0.99=0.01$  \n",
    "Поскольку нам не известны ни среднее, ни дисперсия генеральной совокупности, то для проверки гипотезы будем использовать $t$-критерий.    "
   ]
  },
  {
   "cell_type": "code",
   "execution_count": 11,
   "id": "lined-marking",
   "metadata": {},
   "outputs": [],
   "source": [
    "import numpy as np\n",
    "cookies=np.array([202, 203, 199, 197, 195, 201, 200, 204, 194, 190])"
   ]
  },
  {
   "cell_type": "markdown",
   "id": "suburban-clone",
   "metadata": {},
   "source": [
    "Расчитаем наблюдаемое значение t-критерия $t_н$"
   ]
  },
  {
   "cell_type": "code",
   "execution_count": 12,
   "id": "convertible-arbor",
   "metadata": {},
   "outputs": [
    {
     "name": "stdout",
     "output_type": "stream",
     "text": [
      "Наблюдаемое значение t-критерия: -1.0651\n"
     ]
    }
   ],
   "source": [
    "tn=(np.mean(cookies)-200)/(np.std(cookies,ddof=1)/len(cookies)**0.5)\n",
    "print(f'Наблюдаемое значение t-критерия: {tn: .4f}')"
   ]
  },
  {
   "cell_type": "markdown",
   "id": "backed-schedule",
   "metadata": {},
   "source": [
    "Найдем табличное значение $t$-критерия $t_t$, для $\\alpha/2=0.01/2=0.005$"
   ]
  },
  {
   "cell_type": "code",
   "execution_count": 13,
   "id": "broadband-fight",
   "metadata": {},
   "outputs": [
    {
     "name": "stdout",
     "output_type": "stream",
     "text": [
      "Табличное значение t-критерия:  3.2498\n"
     ]
    }
   ],
   "source": [
    "tt=stats.t.ppf(0.995,len(cookies)-1)\n",
    "print(f'Табличное значение t-критерия: {tt: .4f}')"
   ]
  },
  {
   "cell_type": "markdown",
   "id": "amino-craft",
   "metadata": {},
   "source": [
    "Сравним полученные значения (поскольку у нас двусторонний критерий, то используем абсолютное значение полученного t-критерия):"
   ]
  },
  {
   "cell_type": "code",
   "execution_count": 10,
   "id": "extensive-breed",
   "metadata": {},
   "outputs": [
    {
     "data": {
      "text/plain": [
       "True"
      ]
     },
     "execution_count": 10,
     "metadata": {},
     "output_type": "execute_result"
    }
   ],
   "source": [
    "np.abs(tn)<tt"
   ]
  },
  {
   "cell_type": "markdown",
   "id": "legendary-circumstances",
   "metadata": {},
   "source": [
    "Поскольку $|t_н|<t_t$, **принимаем** нулевую гипотезу на уровне значимости $\\alpha=0.01$"
   ]
  },
  {
   "cell_type": "markdown",
   "id": "baking-newsletter",
   "metadata": {},
   "source": [
    "---  \n",
    "#### Ответ:  \n",
    "**Принимаем** нулевую гипотезу $H0: \\mu_0=200$ на уровне значимости $\\alpha=0.01$  \n",
    "\n",
    "---"
   ]
  },
  {
   "cell_type": "code",
   "execution_count": null,
   "id": "challenging-night",
   "metadata": {},
   "outputs": [],
   "source": []
  }
 ],
 "metadata": {
  "kernelspec": {
   "display_name": "Python 3",
   "language": "python",
   "name": "python3"
  },
  "language_info": {
   "codemirror_mode": {
    "name": "ipython",
    "version": 3
   },
   "file_extension": ".py",
   "mimetype": "text/x-python",
   "name": "python",
   "nbconvert_exporter": "python",
   "pygments_lexer": "ipython3",
   "version": "3.9.1"
  },
  "vscode": {
   "interpreter": {
    "hash": "d8d79bb7dfd3efd41cded07f0e6b0b8ff7eeb85c11f674a18bf8b16f7e11e01b"
   }
  }
 },
 "nbformat": 4,
 "nbformat_minor": 5
}
